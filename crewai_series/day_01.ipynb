{
 "cells": [
  {
   "cell_type": "code",
   "execution_count": null,
   "metadata": {},
   "outputs": [],
   "source": [
    "%pip install -U 'crewai[tools]'\n",
    "%pip install -U 'crewai[agentops]'"
   ]
  },
  {
   "cell_type": "code",
   "execution_count": null,
   "metadata": {},
   "outputs": [],
   "source": [
    "from crewai import Crew, Agent, Task\n",
    "from crewai_tools.tools import WebsiteSearchTool, SerperDevTool, FileReadTool\n",
    "import os\n",
    "from dotenv import load_dotenv"
   ]
  },
  {
   "cell_type": "code",
   "execution_count": null,
   "metadata": {},
   "outputs": [],
   "source": [
    "load_dotenv()\n",
    "OPENAI_API_KEY = os.getenv(\"OPENAI_API_KEY\") or \"<your_openai_key>\""
   ]
  },
  {
   "cell_type": "code",
   "execution_count": null,
   "metadata": {},
   "outputs": [],
   "source": [
    "class Agents:\n",
    "    def my_agent(self):\n",
    "        return Agent(\n",
    "            role=\"You are a helpful assistant.\",\n",
    "            goal=\"To give me a funny joke.\",\n",
    "            tools=[],\n",
    "            backstory=\"You love to give funny jokes.\",\n",
    "            verbose=True,\n",
    "        )\n",
    "\n",
    "    def emoji_agent(self):\n",
    "        return Agent(\n",
    "            role=\"You are a helpful emoji assistant.\",\n",
    "            goal=\"To add emojis to the jokes.\",\n",
    "            tools=[],\n",
    "            backstory=\"You love to add emojis to the jokes.\",\n",
    "            verbose=True,\n",
    "        )"
   ]
  },
  {
   "cell_type": "code",
   "execution_count": null,
   "metadata": {},
   "outputs": [],
   "source": [
    "from textwrap import dedent\n",
    "\n",
    "class Tasks:\n",
    "    def my_task(self, agent):\n",
    "        return Task(\n",
    "            description=dedent(\n",
    "                f\"\"\"\n",
    "                    To give me a funny joke.\n",
    "                    \"\"\"\n",
    "            ),\n",
    "            expected_output=dedent(\n",
    "                \"\"\"The new joke you came up with\"\"\"\n",
    "            ),\n",
    "            agent=agent,\n",
    "        )\n",
    "\n",
    "    def emoji_task(self, agent):\n",
    "        return Task(\n",
    "            description=dedent(\n",
    "                f\"\"\"\n",
    "                    To add emojis to the jokes.\n",
    "                \"\"\"\n",
    "            ),\n",
    "            expected_output=dedent(\n",
    "                \"\"\"The new joke with emojis, you can add lots of them.\"\"\"\n",
    "            ),\n",
    "            agent=agent,\n",
    "        )"
   ]
  },
  {
   "cell_type": "code",
   "execution_count": null,
   "metadata": {},
   "outputs": [],
   "source": [
    "tasks = Tasks()\n",
    "agents = Agents()\n",
    "\n",
    "# Create Agents\n",
    "my_agent = agents.my_agent()\n",
    "emoji_agent = agents.emoji_agent()\n",
    "\n",
    "# Define Tasks for each agent\n",
    "my_task = tasks.my_task(my_agent)\n",
    "emoji_task = tasks.emoji_task(emoji_agent)\n",
    "\n",
    "# Instantiate the crew with a sequential process\n",
    "crew = Crew(\n",
    "    agents=[my_agent, emoji_agent],\n",
    "    tasks=[\n",
    "        my_task,\n",
    "        emoji_task,\n",
    "    ],\n",
    ")\n",
    "\n",
    "try:\n",
    "    # Kick off the process\n",
    "    result = crew.kickoff()\n",
    "except Exception as e:\n",
    "    print(e)\n",
    "\n",
    "print(\"Your first crew is complete!\")\n",
    "print(\"Final joke: \", result)"
   ]
  }
 ],
 "metadata": {
  "language_info": {
   "name": "python"
  }
 },
 "nbformat": 4,
 "nbformat_minor": 2
}
