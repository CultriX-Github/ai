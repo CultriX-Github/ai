{
 "cells": [
  {
   "cell_type": "code",
   "execution_count": null,
   "metadata": {},
   "outputs": [],
   "source": [
    "%pip install -U 'crewai[tools]'\n",
    "%pip install -U crewai"
   ]
  },
  {
   "cell_type": "code",
   "execution_count": null,
   "metadata": {},
   "outputs": [],
   "source": [
    "from crewai import Crew, Agent, Task\n",
    "import os\n",
    "from dotenv import load_dotenv\n",
    "from crewai_tools import SerperDevTool, ScrapeWebsiteTool"
   ]
  },
  {
   "cell_type": "code",
   "execution_count": null,
   "metadata": {},
   "outputs": [],
   "source": [
    "load_dotenv()\n",
    "OPENAI_API_KEY = os.getenv(\"OPENAI_API_KEY\") or \"<your_openai_key>\"\n",
    "SERPER_API_KEY = os.getenv(\"SERPER_API_KEY\") or \"<your_serper_key>\""
   ]
  },
  {
   "cell_type": "code",
   "execution_count": null,
   "metadata": {},
   "outputs": [],
   "source": [
    "serper_dev_tool = SerperDevTool()\n",
    "scrape_website_tool = ScrapeWebsiteTool()\n",
    "\n",
    "class Agents:\n",
    "    def researcher(self, topic):\n",
    "        return Agent(\n",
    "            role=f\"{topic} Senior News Researcher\",\n",
    "            goal=f\"Uncover latest news in {topic}\",\n",
    "            tools=[serper_dev_tool, scrape_website_tool],\n",
    "            backstory=f\"You're a seasoned researcher with a knack for uncovering the latest developments in {topic}. Known for your ability to find the most relevant information and present it in a clear and concise manner.\",\n",
    "            verbose=True,\n",
    "        )\n",
    "\n",
    "    def reporting_analyst(self, topic):\n",
    "        return Agent(\n",
    "            role=f\"{topic} News Reporting Analyst\",\n",
    "            goal=f\"Create detailed reports based on {topic} news analysis and research findings\",\n",
    "            tools=[],\n",
    "            backstory=f\"You're a meticulous analyst with a keen eye for detail. You're known for your ability to turn complex data into clear and concise reports, making it easy for others to understand and act on the information you provide.\",\n",
    "            verbose=True,\n",
    "        )"
   ]
  },
  {
   "cell_type": "code",
   "execution_count": null,
   "metadata": {},
   "outputs": [],
   "source": [
    "from textwrap import dedent\n",
    "\n",
    "class Tasks:\n",
    "    def research_task(self, agent, topic, date):\n",
    "        return Task(\n",
    "            description=dedent(\n",
    "                f\"\"\"\n",
    "                    Search news about {topic}\n",
    "                    The current time is {date}\n",
    "                    \"\"\"\n",
    "            ),\n",
    "            expected_output=dedent(\n",
    "                \"\"\"A list of news articles about {topic} with the title, url and snippet\"\"\"\n",
    "            ),\n",
    "            agent=agent,\n",
    "        )\n",
    "\n",
    "    def reporting_task(self, agent):\n",
    "        return Task(\n",
    "            description=dedent(\n",
    "                f\"\"\"\n",
    "                    Review the context you got.\n",
    "                    Make sure the report is detailed and contains any and all relevant information.\n",
    "                \"\"\"\n",
    "            ),\n",
    "            expected_output=dedent(\n",
    "                \"\"\"A fully fledge reporting of the news articles.\n",
    "                Formatted as markdown without '```'\"\"\"\n",
    "            ),\n",
    "            agent=agent,\n",
    "        )"
   ]
  },
  {
   "cell_type": "code",
   "execution_count": null,
   "metadata": {},
   "outputs": [],
   "source": [
    "from datetime import datetime\n",
    "\n",
    "tasks = Tasks()\n",
    "agents = Agents()\n",
    "\n",
    "# Create Agents\n",
    "researcher = agents.researcher(topic=\"AI\")\n",
    "reporting_analyst = agents.reporting_analyst(topic=\"AI\")\n",
    "\n",
    "# Define Tasks for each agent\n",
    "research_task = tasks.research_task(agent=researcher, topic=\"AI\", date=datetime.now().strftime(\"%Y-%m-%d\"))\n",
    "reporting_task = tasks.reporting_task(agent=reporting_analyst)\n",
    "\n",
    "# Instantiate the crew with a sequential process\n",
    "crew = Crew(\n",
    "    agents=[researcher, reporting_analyst],\n",
    "    tasks=[\n",
    "        research_task,\n",
    "        reporting_task,\n",
    "    ],\n",
    ")\n",
    "\n",
    "try:\n",
    "    # Kick off the process\n",
    "    result = crew.kickoff()\n",
    "except Exception as e:\n",
    "    print(e)\n",
    "\n",
    "print(\"Your chuck norris joke crew is complete!\")\n",
    "print(\"Best joke: \", result)"
   ]
  }
 ],
 "metadata": {
  "language_info": {
   "name": "python"
  }
 },
 "nbformat": 4,
 "nbformat_minor": 2
}
