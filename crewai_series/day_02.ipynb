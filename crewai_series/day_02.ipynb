{
 "cells": [
  {
   "cell_type": "code",
   "execution_count": null,
   "metadata": {},
   "outputs": [],
   "source": [
    "%pip install -U 'crewai[tools]'\n",
    "%pip install -U crewai"
   ]
  },
  {
   "cell_type": "code",
   "execution_count": null,
   "metadata": {},
   "outputs": [],
   "source": [
    "from crewai import Crew, Agent, Task\n",
    "import os\n",
    "from dotenv import load_dotenv"
   ]
  },
  {
   "cell_type": "code",
   "execution_count": null,
   "metadata": {},
   "outputs": [],
   "source": [
    "load_dotenv()\n",
    "OPENAI_API_KEY = os.getenv(\"OPENAI_API_KEY\") or \"<your_openai_key>\""
   ]
  },
  {
   "cell_type": "code",
   "execution_count": null,
   "metadata": {},
   "outputs": [],
   "source": [
    "class Agents:\n",
    "    def chuck_norris_joke_generator(self):\n",
    "        return Agent(\n",
    "            role=\"Chuck Norris Joke Generator.\",\n",
    "            goal=\"Generate 10 Chuck Norris jokes.\",\n",
    "            tools=[],\n",
    "            backstory=\"You are the best joke generator in the world. You always generate the best jokes.\",\n",
    "            verbose=True,\n",
    "        )\n",
    "\n",
    "    def chuck_norris_joke_picker(self):\n",
    "        return Agent(\n",
    "            role=\"Chuck Norris Joke Picker.\",\n",
    "            goal=\"Pick the best joke from the list of jokes.\",\n",
    "            tools=[],\n",
    "            backstory=\"You are a great judge of jokes. You always pick the best joke from the list of jokes.\",\n",
    "            verbose=True,\n",
    "        )"
   ]
  },
  {
   "cell_type": "code",
   "execution_count": null,
   "metadata": {},
   "outputs": [],
   "source": [
    "from textwrap import dedent\n",
    "\n",
    "class Tasks:\n",
    "    def chuck_norris_joke_generator_task(self, agent):\n",
    "        return Task(\n",
    "            description=dedent(\n",
    "                f\"\"\"\n",
    "                    To generate 10 Chuck Norris jokes.\n",
    "                    \"\"\"\n",
    "            ),\n",
    "            expected_output=dedent(\n",
    "                \"\"\"A list with 10 Chuck Norris jokes\"\"\"\n",
    "            ),\n",
    "            agent=agent,\n",
    "        )\n",
    "\n",
    "    def chuck_norris_joke_picker_task(self, agent):\n",
    "        return Task(\n",
    "            description=dedent(\n",
    "                f\"\"\"\n",
    "                    To pick the best joke from the list of jokes.\n",
    "                \"\"\"\n",
    "            ),\n",
    "            expected_output=dedent(\n",
    "                \"\"\"The best joke from the list of jokes\"\"\"\n",
    "            ),\n",
    "            agent=agent,\n",
    "        )"
   ]
  },
  {
   "cell_type": "code",
   "execution_count": null,
   "metadata": {},
   "outputs": [],
   "source": [
    "tasks = Tasks()\n",
    "agents = Agents()\n",
    "\n",
    "# Create Agents\n",
    "chuck_norris_joke_generator = agents.chuck_norris_joke_generator()\n",
    "chuck_norris_joke_picker = agents.chuck_norris_joke_picker()\n",
    "\n",
    "# Define Tasks for each agent\n",
    "chuck_norris_joke_generator_task = tasks.chuck_norris_joke_generator_task(chuck_norris_joke_generator)\n",
    "chuck_norris_joke_picker_task = tasks.chuck_norris_joke_picker_task(chuck_norris_joke_picker)\n",
    "\n",
    "# Instantiate the crew with a sequential process\n",
    "crew = Crew(\n",
    "    agents=[chuck_norris_joke_generator, chuck_norris_joke_picker],\n",
    "    tasks=[\n",
    "        chuck_norris_joke_generator_task,\n",
    "        chuck_norris_joke_picker_task,\n",
    "    ],\n",
    ")\n",
    "\n",
    "try:\n",
    "    # Kick off the process\n",
    "    result = crew.kickoff()\n",
    "except Exception as e:\n",
    "    print(e)\n",
    "\n",
    "print(\"Your chuck norris joke crew is complete!\")\n",
    "print(\"Best joke: \", result)"
   ]
  }
 ],
 "metadata": {
  "language_info": {
   "name": "python"
  }
 },
 "nbformat": 4,
 "nbformat_minor": 2
}
